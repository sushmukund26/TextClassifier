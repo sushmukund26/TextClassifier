{
  "nbformat": 4,
  "nbformat_minor": 0,
  "metadata": {
    "colab": {
      "name": "TaskClassification.ipynb",
      "provenance": [],
      "authorship_tag": "ABX9TyNMLfmoHKiFd0cE1+fpMTRW",
      "include_colab_link": true
    },
    "kernelspec": {
      "name": "python3",
      "display_name": "Python 3"
    }
  },
  "cells": [
    {
      "cell_type": "markdown",
      "metadata": {
        "id": "view-in-github",
        "colab_type": "text"
      },
      "source": [
        "<a href=\"https://colab.research.google.com/github/sushmukund26/TextClassifier/blob/master/TaskClassification.ipynb\" target=\"_parent\"><img src=\"https://colab.research.google.com/assets/colab-badge.svg\" alt=\"Open In Colab\"/></a>"
      ]
    },
    {
      "cell_type": "code",
      "metadata": {
        "id": "Q3UH3yYKrcx-",
        "colab_type": "code",
        "colab": {}
      },
      "source": [
        "#Hare Krishna\n",
        "\n",
        "# download flair library\n",
        "import torch\n",
        "!pip install flair\n",
        "import flair"
      ],
      "execution_count": 0,
      "outputs": []
    },
    {
      "cell_type": "code",
      "metadata": {
        "id": "ngR2BZwmrvb8",
        "colab_type": "code",
        "colab": {}
      },
      "source": [
        "from flair.embeddings import WordEmbeddings, FlairEmbeddings, DocumentPoolEmbeddings, Sentence\n",
        "\n",
        "# initialize the word embeddings\n",
        "glove_embedding = WordEmbeddings('glove')\n",
        "flair_embedding_forward = FlairEmbeddings('news-forward')\n",
        "flair_embedding_backward = FlairEmbeddings('news-backward')\n",
        "\n",
        "# initialize the document embeddings, mode = mean\n",
        "document_embeddings = DocumentPoolEmbeddings([glove_embedding,\n",
        "                                              flair_embedding_backward,\n",
        "                                              flair_embedding_forward])\n"
      ],
      "execution_count": 0,
      "outputs": []
    },
    {
      "cell_type": "code",
      "metadata": {
        "id": "RqsIvHfwsZ32",
        "colab_type": "code",
        "colab": {}
      },
      "source": [
        "# create an example sentence\n",
        "sentence1 = Sentence('Extract purchased items from a shopping receipt (6-10 items) Transcribe all of the item names, UPCs and amounts from a grocery receipt')\n",
        "sentence2 = Sentence('Extract purchased items from a shopping receipt (6-10 items) Transcribe all of the item names, UPCs and amounts from a grocery receipt')\n",
        "\n",
        "# embed the sentence with our document embedding\n",
        "document_embeddings.embed(sentence1)\n",
        "document_embeddings.embed(sentence2)\n",
        "\n",
        "# now check out the embedded sentence.\n",
        "embedding1 = sentence1.get_embedding()\n",
        "embedding2 = sentence2.get_embedding()"
      ],
      "execution_count": 0,
      "outputs": []
    },
    {
      "cell_type": "code",
      "metadata": {
        "id": "bIv8WNHTxC2_",
        "colab_type": "code",
        "outputId": "5b02be86-94dd-4aa8-efc9-b9e61ee57d86",
        "colab": {
          "base_uri": "https://localhost:8080/",
          "height": 34
        }
      },
      "source": [
        "from scipy import spatial\n",
        "\n",
        "embedding1t = np.array(embedding1.detach().numpy())\n",
        "embedding2t = np.array(embedding2.detach().numpy())\n",
        "\n",
        "result = 1 - spatial.distance.cosine(embedding1t, embedding2t)\n",
        "print(result)"
      ],
      "execution_count": 0,
      "outputs": [
        {
          "output_type": "stream",
          "text": [
            "1.0\n"
          ],
          "name": "stdout"
        }
      ]
    },
    {
      "cell_type": "code",
      "metadata": {
        "id": "4G-JQ63KP9Vm",
        "colab_type": "code",
        "outputId": "43a9a167-78f5-4a08-e5c7-9e4a700d17aa",
        "colab": {
          "base_uri": "https://localhost:8080/",
          "height": 309
        }
      },
      "source": [
        "import pandas as pd\n",
        "\n",
        "\n",
        "url = 'https://raw.githubusercontent.com/sushmukund26/TextClassifier/master/HareKrishna.csv'\n",
        "df = pd.read_csv(url)\n",
        "# print(df)\n",
        "\n",
        "arr = []\n",
        "\n",
        "for index, row in df.head(5).iterrows():\n",
        "     print(row['Task'])\n",
        "     task = Sentence(row['Task'])\n",
        "     document_embeddings.embed(task)\n",
        "     embedding = task.get_embedding()\n",
        "     embedding1 = np.array(embedding.detach().numpy())\n",
        "     print(embedding1)\n",
        "     arr.append(embedding1)"
      ],
      "execution_count": 0,
      "outputs": [
        {
          "output_type": "stream",
          "text": [
            "ERROR! Session/line number was not unique in database. History logging moved to new session 61\n",
            "Select 4 closest matching textures for the image segment highlighted in green Select 4 closest matching textures for the image segment highlighted in GREEN\n",
            "[-0.25466743  0.2069412   0.35641694 ... -0.00043898 -0.0043298\n",
            "  0.01626076]\n",
            "Restaurant Statement -- ITEMIZATION Fill out items from a scanned statement image.\n",
            "[-0.20818998  0.09473217  0.2627294  ... -0.00043903  0.00170522\n",
            "  0.00505271]\n",
            "Find all advertisers in this text, if any You will review a transcribed section of a podcast and list out all companies that advertiser in the podcast, if any.\n",
            "[-2.0423751e-01  1.7206214e-01  3.3730963e-01 ...  2.1950708e-04\n",
            "  3.2564730e-03  1.1330444e-02]\n",
            "Contact Info Search Take the name of the Bachelor and the season they starred then go find their email on the internet. Copy the email into the spreadsheet. These are notable stars that should be easy to find the contact info for. You may want\n",
            "[-0.17841063  0.02142896  0.3400723  ... -0.00405637 -0.00302118\n",
            "  0.02241612]\n",
            "Type the text from the images, carefully. Productivity and bonuses guaranteed. Type the text carefully\n",
            "[-0.168689    0.27739802  0.21663563 ... -0.00149498 -0.01580224\n",
            "  0.03809295]\n"
          ],
          "name": "stdout"
        }
      ]
    },
    {
      "cell_type": "code",
      "metadata": {
        "id": "yf1KOvWFXvMh",
        "colab_type": "code",
        "outputId": "635da772-5b20-4515-bc7d-59880764cb7e",
        "colab": {
          "base_uri": "https://localhost:8080/",
          "height": 34
        }
      },
      "source": [
        "resultPlease = 1 - spatial.distance.cosine(arr[0], arr[1])\n",
        "print(resultPlease)"
      ],
      "execution_count": 0,
      "outputs": [
        {
          "output_type": "stream",
          "text": [
            "0.7836974263191223\n"
          ],
          "name": "stdout"
        }
      ]
    }
  ]
}